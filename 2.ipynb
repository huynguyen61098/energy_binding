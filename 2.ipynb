{
 "cells": [
  {
   "cell_type": "code",
   "execution_count": 24,
   "metadata": {},
   "outputs": [
    {
     "name": "stdout",
     "output_type": "stream",
     "text": [
      "Warning: Cannot change to a different GUI toolkit: widget. Using notebook instead.\n"
     ]
    }
   ],
   "source": [
    "import pandas as pd\n",
    "%matplotlib widget"
   ]
  },
  {
   "cell_type": "code",
   "execution_count": 3,
   "metadata": {},
   "outputs": [],
   "source": [
    "df = pd.read_csv(\"./energy.csv\")"
   ]
  },
  {
   "cell_type": "code",
   "execution_count": 4,
   "metadata": {},
   "outputs": [
    {
     "data": {
      "text/html": [
       "<div>\n",
       "<style scoped>\n",
       "    .dataframe tbody tr th:only-of-type {\n",
       "        vertical-align: middle;\n",
       "    }\n",
       "\n",
       "    .dataframe tbody tr th {\n",
       "        vertical-align: top;\n",
       "    }\n",
       "\n",
       "    .dataframe thead th {\n",
       "        text-align: right;\n",
       "    }\n",
       "</style>\n",
       "<table border=\"1\" class=\"dataframe\">\n",
       "  <thead>\n",
       "    <tr style=\"text-align: right;\">\n",
       "      <th></th>\n",
       "      <th>Unnamed: 0</th>\n",
       "      <th>Binding energy</th>\n",
       "      <th>Poses in cluster</th>\n",
       "      <th>Best pose</th>\n",
       "      <th>Binding site coordinates</th>\n",
       "    </tr>\n",
       "  </thead>\n",
       "  <tbody>\n",
       "    <tr>\n",
       "      <th>0</th>\n",
       "      <td>1</td>\n",
       "      <td>-10.1</td>\n",
       "      <td>44</td>\n",
       "      <td>517</td>\n",
       "      <td>(82.42, 86.20, 100.95)</td>\n",
       "    </tr>\n",
       "    <tr>\n",
       "      <th>1</th>\n",
       "      <td>2</td>\n",
       "      <td>-9.3</td>\n",
       "      <td>43</td>\n",
       "      <td>420</td>\n",
       "      <td>(78.27, 93.42, 110.12)</td>\n",
       "    </tr>\n",
       "    <tr>\n",
       "      <th>2</th>\n",
       "      <td>3</td>\n",
       "      <td>-8.4</td>\n",
       "      <td>56</td>\n",
       "      <td>582</td>\n",
       "      <td>(93.36, 94.44, 104.61)</td>\n",
       "    </tr>\n",
       "    <tr>\n",
       "      <th>3</th>\n",
       "      <td>4</td>\n",
       "      <td>-8.0</td>\n",
       "      <td>96</td>\n",
       "      <td>383</td>\n",
       "      <td>(112.33, 108.77, 95.04)</td>\n",
       "    </tr>\n",
       "    <tr>\n",
       "      <th>4</th>\n",
       "      <td>5</td>\n",
       "      <td>-8.0</td>\n",
       "      <td>42</td>\n",
       "      <td>469</td>\n",
       "      <td>(87.18, 86.59, 113.59)</td>\n",
       "    </tr>\n",
       "  </tbody>\n",
       "</table>\n",
       "</div>"
      ],
      "text/plain": [
       "   Unnamed: 0  Binding energy  Poses in cluster  Best pose  \\\n",
       "0           1           -10.1                44        517   \n",
       "1           2            -9.3                43        420   \n",
       "2           3            -8.4                56        582   \n",
       "3           4            -8.0                96        383   \n",
       "4           5            -8.0                42        469   \n",
       "\n",
       "  Binding site coordinates  \n",
       "0   (82.42, 86.20, 100.95)  \n",
       "1   (78.27, 93.42, 110.12)  \n",
       "2   (93.36, 94.44, 104.61)  \n",
       "3  (112.33, 108.77, 95.04)  \n",
       "4   (87.18, 86.59, 113.59)  "
      ]
     },
     "execution_count": 4,
     "metadata": {},
     "output_type": "execute_result"
    }
   ],
   "source": [
    "df.head()"
   ]
  },
  {
   "cell_type": "code",
   "execution_count": 5,
   "metadata": {},
   "outputs": [],
   "source": [
    "df.rename(columns = {\"Unnamed: 0\":\"Id\",\"Binding energy\": \"Binding_energy\", \"Poses in cluster\": \"Poses_in_cluster\", \"Best pose\": \"Best_pose\"\n",
    "                    ,\"Binding site coordinates\": \"Binding_site_coordinates\"}, inplace = True)"
   ]
  },
  {
   "cell_type": "code",
   "execution_count": 6,
   "metadata": {},
   "outputs": [
    {
     "data": {
      "text/html": [
       "<div>\n",
       "<style scoped>\n",
       "    .dataframe tbody tr th:only-of-type {\n",
       "        vertical-align: middle;\n",
       "    }\n",
       "\n",
       "    .dataframe tbody tr th {\n",
       "        vertical-align: top;\n",
       "    }\n",
       "\n",
       "    .dataframe thead th {\n",
       "        text-align: right;\n",
       "    }\n",
       "</style>\n",
       "<table border=\"1\" class=\"dataframe\">\n",
       "  <thead>\n",
       "    <tr style=\"text-align: right;\">\n",
       "      <th></th>\n",
       "      <th>Id</th>\n",
       "      <th>Binding_energy</th>\n",
       "      <th>Poses_in_cluster</th>\n",
       "      <th>Best_pose</th>\n",
       "      <th>Binding_site_coordinates</th>\n",
       "    </tr>\n",
       "  </thead>\n",
       "  <tbody>\n",
       "    <tr>\n",
       "      <th>0</th>\n",
       "      <td>1</td>\n",
       "      <td>-10.1</td>\n",
       "      <td>44</td>\n",
       "      <td>517</td>\n",
       "      <td>(82.42, 86.20, 100.95)</td>\n",
       "    </tr>\n",
       "    <tr>\n",
       "      <th>1</th>\n",
       "      <td>2</td>\n",
       "      <td>-9.3</td>\n",
       "      <td>43</td>\n",
       "      <td>420</td>\n",
       "      <td>(78.27, 93.42, 110.12)</td>\n",
       "    </tr>\n",
       "    <tr>\n",
       "      <th>2</th>\n",
       "      <td>3</td>\n",
       "      <td>-8.4</td>\n",
       "      <td>56</td>\n",
       "      <td>582</td>\n",
       "      <td>(93.36, 94.44, 104.61)</td>\n",
       "    </tr>\n",
       "    <tr>\n",
       "      <th>3</th>\n",
       "      <td>4</td>\n",
       "      <td>-8.0</td>\n",
       "      <td>96</td>\n",
       "      <td>383</td>\n",
       "      <td>(112.33, 108.77, 95.04)</td>\n",
       "    </tr>\n",
       "    <tr>\n",
       "      <th>4</th>\n",
       "      <td>5</td>\n",
       "      <td>-8.0</td>\n",
       "      <td>42</td>\n",
       "      <td>469</td>\n",
       "      <td>(87.18, 86.59, 113.59)</td>\n",
       "    </tr>\n",
       "  </tbody>\n",
       "</table>\n",
       "</div>"
      ],
      "text/plain": [
       "   Id  Binding_energy  Poses_in_cluster  Best_pose Binding_site_coordinates\n",
       "0   1           -10.1                44        517   (82.42, 86.20, 100.95)\n",
       "1   2            -9.3                43        420   (78.27, 93.42, 110.12)\n",
       "2   3            -8.4                56        582   (93.36, 94.44, 104.61)\n",
       "3   4            -8.0                96        383  (112.33, 108.77, 95.04)\n",
       "4   5            -8.0                42        469   (87.18, 86.59, 113.59)"
      ]
     },
     "execution_count": 6,
     "metadata": {},
     "output_type": "execute_result"
    }
   ],
   "source": [
    "df.head()"
   ]
  },
  {
   "cell_type": "code",
   "execution_count": 7,
   "metadata": {},
   "outputs": [],
   "source": [
    "df.loc[:, \"x\"] = df.Binding_site_coordinates.map(lambda x: x[1:-1].split(\",\")[0].strip())\n",
    "df.loc[:, \"y\"] = df.Binding_site_coordinates.map(lambda x: x[1:-1].split(\",\")[1].strip())\n",
    "df.loc[:, \"z\"] = df.Binding_site_coordinates.map(lambda x: x[1:-1].split(\",\")[2].strip())"
   ]
  },
  {
   "cell_type": "code",
   "execution_count": 8,
   "metadata": {},
   "outputs": [
    {
     "data": {
      "text/html": [
       "<div>\n",
       "<style scoped>\n",
       "    .dataframe tbody tr th:only-of-type {\n",
       "        vertical-align: middle;\n",
       "    }\n",
       "\n",
       "    .dataframe tbody tr th {\n",
       "        vertical-align: top;\n",
       "    }\n",
       "\n",
       "    .dataframe thead th {\n",
       "        text-align: right;\n",
       "    }\n",
       "</style>\n",
       "<table border=\"1\" class=\"dataframe\">\n",
       "  <thead>\n",
       "    <tr style=\"text-align: right;\">\n",
       "      <th></th>\n",
       "      <th>Id</th>\n",
       "      <th>Binding_energy</th>\n",
       "      <th>Poses_in_cluster</th>\n",
       "      <th>Best_pose</th>\n",
       "      <th>Binding_site_coordinates</th>\n",
       "      <th>x</th>\n",
       "      <th>y</th>\n",
       "      <th>z</th>\n",
       "    </tr>\n",
       "  </thead>\n",
       "  <tbody>\n",
       "    <tr>\n",
       "      <th>0</th>\n",
       "      <td>1</td>\n",
       "      <td>-10.1</td>\n",
       "      <td>44</td>\n",
       "      <td>517</td>\n",
       "      <td>(82.42, 86.20, 100.95)</td>\n",
       "      <td>82.42</td>\n",
       "      <td>86.20</td>\n",
       "      <td>100.95</td>\n",
       "    </tr>\n",
       "    <tr>\n",
       "      <th>1</th>\n",
       "      <td>2</td>\n",
       "      <td>-9.3</td>\n",
       "      <td>43</td>\n",
       "      <td>420</td>\n",
       "      <td>(78.27, 93.42, 110.12)</td>\n",
       "      <td>78.27</td>\n",
       "      <td>93.42</td>\n",
       "      <td>110.12</td>\n",
       "    </tr>\n",
       "    <tr>\n",
       "      <th>2</th>\n",
       "      <td>3</td>\n",
       "      <td>-8.4</td>\n",
       "      <td>56</td>\n",
       "      <td>582</td>\n",
       "      <td>(93.36, 94.44, 104.61)</td>\n",
       "      <td>93.36</td>\n",
       "      <td>94.44</td>\n",
       "      <td>104.61</td>\n",
       "    </tr>\n",
       "    <tr>\n",
       "      <th>3</th>\n",
       "      <td>4</td>\n",
       "      <td>-8.0</td>\n",
       "      <td>96</td>\n",
       "      <td>383</td>\n",
       "      <td>(112.33, 108.77, 95.04)</td>\n",
       "      <td>112.33</td>\n",
       "      <td>108.77</td>\n",
       "      <td>95.04</td>\n",
       "    </tr>\n",
       "    <tr>\n",
       "      <th>4</th>\n",
       "      <td>5</td>\n",
       "      <td>-8.0</td>\n",
       "      <td>42</td>\n",
       "      <td>469</td>\n",
       "      <td>(87.18, 86.59, 113.59)</td>\n",
       "      <td>87.18</td>\n",
       "      <td>86.59</td>\n",
       "      <td>113.59</td>\n",
       "    </tr>\n",
       "  </tbody>\n",
       "</table>\n",
       "</div>"
      ],
      "text/plain": [
       "   Id  Binding_energy  Poses_in_cluster  Best_pose Binding_site_coordinates  \\\n",
       "0   1           -10.1                44        517   (82.42, 86.20, 100.95)   \n",
       "1   2            -9.3                43        420   (78.27, 93.42, 110.12)   \n",
       "2   3            -8.4                56        582   (93.36, 94.44, 104.61)   \n",
       "3   4            -8.0                96        383  (112.33, 108.77, 95.04)   \n",
       "4   5            -8.0                42        469   (87.18, 86.59, 113.59)   \n",
       "\n",
       "        x       y       z  \n",
       "0   82.42   86.20  100.95  \n",
       "1   78.27   93.42  110.12  \n",
       "2   93.36   94.44  104.61  \n",
       "3  112.33  108.77   95.04  \n",
       "4   87.18   86.59  113.59  "
      ]
     },
     "execution_count": 8,
     "metadata": {},
     "output_type": "execute_result"
    }
   ],
   "source": [
    "df.head()"
   ]
  },
  {
   "cell_type": "code",
   "execution_count": 9,
   "metadata": {},
   "outputs": [],
   "source": [
    "df.drop([\"Binding_site_coordinates\"], axis =1, inplace=True)"
   ]
  },
  {
   "cell_type": "code",
   "execution_count": 10,
   "metadata": {},
   "outputs": [
    {
     "data": {
      "text/plain": [
       "Id                    int64\n",
       "Binding_energy      float64\n",
       "Poses_in_cluster      int64\n",
       "Best_pose             int64\n",
       "x                    object\n",
       "y                    object\n",
       "z                    object\n",
       "dtype: object"
      ]
     },
     "execution_count": 10,
     "metadata": {},
     "output_type": "execute_result"
    }
   ],
   "source": [
    "df.dtypes"
   ]
  },
  {
   "cell_type": "code",
   "execution_count": 11,
   "metadata": {},
   "outputs": [],
   "source": [
    "df.x = df.x.astype(\"float32\")\n",
    "df.y = df.y.astype(\"float32\")\n",
    "df.z = df.z.astype(\"float32\")"
   ]
  },
  {
   "cell_type": "code",
   "execution_count": 12,
   "metadata": {},
   "outputs": [
    {
     "data": {
      "text/plain": [
       "Id                    int64\n",
       "Binding_energy      float64\n",
       "Poses_in_cluster      int64\n",
       "Best_pose             int64\n",
       "x                   float32\n",
       "y                   float32\n",
       "z                   float32\n",
       "dtype: object"
      ]
     },
     "execution_count": 12,
     "metadata": {},
     "output_type": "execute_result"
    }
   ],
   "source": [
    "df.dtypes"
   ]
  },
  {
   "cell_type": "code",
   "execution_count": 13,
   "metadata": {},
   "outputs": [
    {
     "data": {
      "text/plain": [
       "(55, 7)"
      ]
     },
     "execution_count": 13,
     "metadata": {},
     "output_type": "execute_result"
    }
   ],
   "source": [
    "df.shape"
   ]
  },
  {
   "cell_type": "code",
   "execution_count": 14,
   "metadata": {},
   "outputs": [
    {
     "data": {
      "text/html": [
       "<div>\n",
       "<style scoped>\n",
       "    .dataframe tbody tr th:only-of-type {\n",
       "        vertical-align: middle;\n",
       "    }\n",
       "\n",
       "    .dataframe tbody tr th {\n",
       "        vertical-align: top;\n",
       "    }\n",
       "\n",
       "    .dataframe thead th {\n",
       "        text-align: right;\n",
       "    }\n",
       "</style>\n",
       "<table border=\"1\" class=\"dataframe\">\n",
       "  <thead>\n",
       "    <tr style=\"text-align: right;\">\n",
       "      <th></th>\n",
       "      <th>Id</th>\n",
       "      <th>Binding_energy</th>\n",
       "      <th>Poses_in_cluster</th>\n",
       "      <th>Best_pose</th>\n",
       "      <th>x</th>\n",
       "      <th>y</th>\n",
       "      <th>z</th>\n",
       "    </tr>\n",
       "  </thead>\n",
       "  <tbody>\n",
       "    <tr>\n",
       "      <th>count</th>\n",
       "      <td>55.00000</td>\n",
       "      <td>55.000000</td>\n",
       "      <td>55.000000</td>\n",
       "      <td>55.000000</td>\n",
       "      <td>55.000000</td>\n",
       "      <td>55.000000</td>\n",
       "      <td>55.000000</td>\n",
       "    </tr>\n",
       "    <tr>\n",
       "      <th>mean</th>\n",
       "      <td>28.00000</td>\n",
       "      <td>-6.247273</td>\n",
       "      <td>18.381818</td>\n",
       "      <td>558.836364</td>\n",
       "      <td>97.384720</td>\n",
       "      <td>98.203079</td>\n",
       "      <td>102.343445</td>\n",
       "    </tr>\n",
       "    <tr>\n",
       "      <th>std</th>\n",
       "      <td>16.02082</td>\n",
       "      <td>1.449758</td>\n",
       "      <td>19.520636</td>\n",
       "      <td>310.007632</td>\n",
       "      <td>18.427473</td>\n",
       "      <td>18.771818</td>\n",
       "      <td>20.712515</td>\n",
       "    </tr>\n",
       "    <tr>\n",
       "      <th>min</th>\n",
       "      <td>1.00000</td>\n",
       "      <td>-10.100000</td>\n",
       "      <td>1.000000</td>\n",
       "      <td>20.000000</td>\n",
       "      <td>63.730000</td>\n",
       "      <td>58.919998</td>\n",
       "      <td>57.299999</td>\n",
       "    </tr>\n",
       "    <tr>\n",
       "      <th>25%</th>\n",
       "      <td>14.50000</td>\n",
       "      <td>-6.800000</td>\n",
       "      <td>4.000000</td>\n",
       "      <td>299.500000</td>\n",
       "      <td>82.160000</td>\n",
       "      <td>85.325001</td>\n",
       "      <td>85.490002</td>\n",
       "    </tr>\n",
       "    <tr>\n",
       "      <th>50%</th>\n",
       "      <td>28.00000</td>\n",
       "      <td>-6.300000</td>\n",
       "      <td>10.000000</td>\n",
       "      <td>580.000000</td>\n",
       "      <td>97.139999</td>\n",
       "      <td>95.669998</td>\n",
       "      <td>104.610001</td>\n",
       "    </tr>\n",
       "    <tr>\n",
       "      <th>75%</th>\n",
       "      <td>41.50000</td>\n",
       "      <td>-5.600000</td>\n",
       "      <td>30.000000</td>\n",
       "      <td>835.000000</td>\n",
       "      <td>112.580002</td>\n",
       "      <td>112.965000</td>\n",
       "      <td>121.684998</td>\n",
       "    </tr>\n",
       "    <tr>\n",
       "      <th>max</th>\n",
       "      <td>55.00000</td>\n",
       "      <td>1.200000</td>\n",
       "      <td>96.000000</td>\n",
       "      <td>1008.000000</td>\n",
       "      <td>128.919998</td>\n",
       "      <td>136.899994</td>\n",
       "      <td>133.520004</td>\n",
       "    </tr>\n",
       "  </tbody>\n",
       "</table>\n",
       "</div>"
      ],
      "text/plain": [
       "             Id  Binding_energy  Poses_in_cluster    Best_pose           x  \\\n",
       "count  55.00000       55.000000         55.000000    55.000000   55.000000   \n",
       "mean   28.00000       -6.247273         18.381818   558.836364   97.384720   \n",
       "std    16.02082        1.449758         19.520636   310.007632   18.427473   \n",
       "min     1.00000      -10.100000          1.000000    20.000000   63.730000   \n",
       "25%    14.50000       -6.800000          4.000000   299.500000   82.160000   \n",
       "50%    28.00000       -6.300000         10.000000   580.000000   97.139999   \n",
       "75%    41.50000       -5.600000         30.000000   835.000000  112.580002   \n",
       "max    55.00000        1.200000         96.000000  1008.000000  128.919998   \n",
       "\n",
       "                y           z  \n",
       "count   55.000000   55.000000  \n",
       "mean    98.203079  102.343445  \n",
       "std     18.771818   20.712515  \n",
       "min     58.919998   57.299999  \n",
       "25%     85.325001   85.490002  \n",
       "50%     95.669998  104.610001  \n",
       "75%    112.965000  121.684998  \n",
       "max    136.899994  133.520004  "
      ]
     },
     "execution_count": 14,
     "metadata": {},
     "output_type": "execute_result"
    }
   ],
   "source": [
    "df.describe()"
   ]
  },
  {
   "cell_type": "code",
   "execution_count": 15,
   "metadata": {},
   "outputs": [],
   "source": [
    "import plotly.express as px"
   ]
  },
  {
   "cell_type": "code",
   "execution_count": 25,
   "metadata": {},
   "outputs": [
    {
     "data": {
      "application/vnd.plotly.v1+json": {
       "config": {
        "plotlyServerURL": "https://plot.ly"
       },
       "data": [
        {
         "customdata": [
          [
           517,
           44
          ],
          [
           420,
           43
          ],
          [
           582,
           56
          ],
          [
           383,
           96
          ],
          [
           469,
           42
          ],
          [
           61,
           35
          ],
          [
           832,
           5
          ],
          [
           631,
           52
          ],
          [
           211,
           41
          ],
          [
           767,
           5
          ],
          [
           396,
           16
          ],
          [
           715,
           14
          ],
          [
           891,
           52
          ],
          [
           591,
           30
          ],
          [
           739,
           30
          ],
          [
           485,
           25
          ],
          [
           20,
           26
          ],
          [
           983,
           5
          ],
          [
           354,
           26
          ],
          [
           259,
           51
          ],
          [
           960,
           13
          ],
          [
           38,
           34
          ],
          [
           190,
           18
          ],
          [
           342,
           21
          ],
          [
           110,
           4
          ],
          [
           452,
           31
          ],
          [
           827,
           13
          ],
          [
           26,
           10
          ],
          [
           181,
           8
          ],
          [
           74,
           10
          ],
          [
           263,
           36
          ],
          [
           207,
           15
          ],
          [
           886,
           2
          ],
          [
           912,
           2
          ],
          [
           336,
           4
          ],
          [
           561,
           22
          ],
          [
           840,
           1
          ],
          [
           684,
           7
          ],
          [
           208,
           15
          ],
          [
           838,
           3
          ],
          [
           899,
           4
          ],
          [
           529,
           3
          ],
          [
           823,
           6
          ],
          [
           902,
           6
          ],
          [
           810,
           4
          ],
          [
           915,
           2
          ],
          [
           1008,
           1
          ],
          [
           866,
           8
          ],
          [
           811,
           4
          ],
          [
           118,
           1
          ],
          [
           743,
           1
          ],
          [
           483,
           1
          ],
          [
           1006,
           5
          ],
          [
           1002,
           1
          ],
          [
           580,
           1
          ]
         ],
         "hovertemplate": "x=%{x}<br>y=%{y}<br>z=%{z}<br>Best_pose=%{customdata[0]}<br>Poses_in_cluster=%{customdata[1]}<br>Binding_energy=%{marker.color}<extra></extra>",
         "legendgroup": "",
         "marker": {
          "color": [
           -10.1,
           -9.3,
           -8.4,
           -8,
           -8,
           -7.6,
           -7.3,
           -7.1,
           -7.1,
           -7.1,
           -7,
           -6.9,
           -6.8,
           -6.8,
           -6.8,
           -6.7,
           -6.6,
           -6.6,
           -6.6,
           -6.6,
           -6.6,
           -6.5,
           -6.5,
           -6.5,
           -6.4,
           -6.4,
           -6.4,
           -6.3,
           -6.2,
           -6.2,
           -6.2,
           -6,
           -6,
           -6,
           -5.9,
           -5.9,
           -5.9,
           -5.8,
           -5.7,
           -5.7,
           -5.6,
           -5.6,
           -5.6,
           -5.5,
           -5.5,
           -5.4,
           -5.4,
           -5.4,
           -5.4,
           -5.2,
           -5.2,
           -5.1,
           -4.9,
           -4.5,
           1.2
          ],
          "coloraxis": "coloraxis",
          "symbol": "circle"
         },
         "mode": "markers",
         "name": "",
         "scene": "scene",
         "showlegend": false,
         "type": "scatter3d",
         "x": [
          82.41999816894531,
          78.2699966430664,
          93.36000061035156,
          112.33000183105469,
          87.18000030517578,
          119.73999786376953,
          66.38999938964844,
          107.37000274658203,
          94.52999877929688,
          71.0199966430664,
          78.83999633789062,
          101.76000213623047,
          116.01000213623047,
          95.95999908447266,
          90.86000061035156,
          69.80999755859375,
          111.83000183105469,
          107.30999755859375,
          102.22000122070312,
          97.13999938964844,
          90.95999908447266,
          122.58999633789062,
          116.08000183105469,
          87.41999816894531,
          128.9199981689453,
          92.11000061035156,
          73.05000305175781,
          126.44999694824219,
          124.33000183105469,
          119.01000213623047,
          81.30999755859375,
          119.0999984741211,
          112.83000183105469,
          104.23999786376953,
          89.83000183105469,
          83.9800033569336,
          72.41000366210938,
          101.80000305175781,
          106.41000366210938,
          77.19000244140625,
          127.13999938964844,
          85.45999908447266,
          63.72999954223633,
          125.91999816894531,
          67.04000091552734,
          106.05000305175781,
          99.63999938964844,
          98.91000366210938,
          78.30000305175781,
          123.5999984741211,
          81.9000015258789,
          73.12000274658203,
          113.62000274658203,
          96.80000305175781,
          100.55999755859375
         ],
         "y": [
          86.19999694824219,
          93.41999816894531,
          94.44000244140625,
          108.7699966430664,
          86.58999633789062,
          85.86000061035156,
          87.69000244140625,
          84.20999908447266,
          113.48999786376953,
          87.33000183105469,
          90.12999725341797,
          86.73999786376953,
          95.26000213623047,
          103.62999725341797,
          68.22000122070312,
          104.27999877929688,
          100.87999725341797,
          91.30999755859375,
          65.16999816894531,
          118.30000305175781,
          92.52999877929688,
          95.66999816894531,
          118.7300033569336,
          58.91999816894531,
          106.91999816894531,
          125.72000122070312,
          82.98999786376953,
          105.44000244140625,
          107.66000366210938,
          81.63999938964844,
          127.33000183105469,
          122.80000305175781,
          111.75,
          125.51000213623047,
          81.33000183105469,
          112.08000183105469,
          124.52999877929688,
          76.54000091552734,
          120.0199966430664,
          110.62000274658203,
          109.94999694824219,
          84.79000091552734,
          74.86000061035156,
          117.2300033569336,
          77.45999908447266,
          112.56999969482422,
          97.37999725341797,
          136.89999389648438,
          70.91999816894531,
          121.12999725341797,
          72.61000061035156,
          116.54000091552734,
          87.86000061035156,
          66.95999908447266,
          113.36000061035156
         ],
         "z": [
          100.94999694824219,
          110.12000274658203,
          104.61000061035156,
          95.04000091552734,
          113.58999633789062,
          77.91000366210938,
          108.94999694824219,
          75.8499984741211,
          75.52999877929688,
          122.0199966430664,
          82.66000366210938,
          100.41999816894531,
          124.08999633789062,
          121.66999816894531,
          96.38999938964844,
          109.8499984741211,
          62.43000030517578,
          116.48999786376953,
          116.80999755859375,
          122.80999755859375,
          123.76000213623047,
          67.5999984741211,
          102.25,
          115.12999725341797,
          80.61000061035156,
          90.41000366210938,
          93.6500015258789,
          57.29999923706055,
          93.30000305175781,
          90.97000122070312,
          104.06999969482422,
          87.43000030517578,
          109.69000244140625,
          122.69999694824219,
          130.72000122070312,
          80.87999725341797,
          114.16000366210938,
          83.55000305175781,
          72.1500015258789,
          123.5,
          127.16999816894531,
          70.63999938964844,
          106.12000274658203,
          120,
          121.69999694824219,
          130.72999572753906,
          129.16000366210938,
          106.0999984741211,
          129.42999267578125,
          65.44999694824219,
          81.2300033569336,
          94.27999877929688,
          133.52000427246094,
          128.97999572753906,
          102.36000061035156
         ]
        }
       ],
       "layout": {
        "coloraxis": {
         "colorbar": {
          "title": {
           "text": "Binding_energy"
          }
         },
         "colorscale": [
          [
           0,
           "#0d0887"
          ],
          [
           0.1111111111111111,
           "#46039f"
          ],
          [
           0.2222222222222222,
           "#7201a8"
          ],
          [
           0.3333333333333333,
           "#9c179e"
          ],
          [
           0.4444444444444444,
           "#bd3786"
          ],
          [
           0.5555555555555556,
           "#d8576b"
          ],
          [
           0.6666666666666666,
           "#ed7953"
          ],
          [
           0.7777777777777778,
           "#fb9f3a"
          ],
          [
           0.8888888888888888,
           "#fdca26"
          ],
          [
           1,
           "#f0f921"
          ]
         ]
        },
        "legend": {
         "tracegroupgap": 0
        },
        "margin": {
         "t": 60
        },
        "scene": {
         "domain": {
          "x": [
           0,
           1
          ],
          "y": [
           0,
           1
          ]
         },
         "xaxis": {
          "title": {
           "text": "x"
          }
         },
         "yaxis": {
          "title": {
           "text": "y"
          }
         },
         "zaxis": {
          "title": {
           "text": "z"
          }
         }
        },
        "template": {
         "data": {
          "bar": [
           {
            "error_x": {
             "color": "#2a3f5f"
            },
            "error_y": {
             "color": "#2a3f5f"
            },
            "marker": {
             "line": {
              "color": "#E5ECF6",
              "width": 0.5
             },
             "pattern": {
              "fillmode": "overlay",
              "size": 10,
              "solidity": 0.2
             }
            },
            "type": "bar"
           }
          ],
          "barpolar": [
           {
            "marker": {
             "line": {
              "color": "#E5ECF6",
              "width": 0.5
             },
             "pattern": {
              "fillmode": "overlay",
              "size": 10,
              "solidity": 0.2
             }
            },
            "type": "barpolar"
           }
          ],
          "carpet": [
           {
            "aaxis": {
             "endlinecolor": "#2a3f5f",
             "gridcolor": "white",
             "linecolor": "white",
             "minorgridcolor": "white",
             "startlinecolor": "#2a3f5f"
            },
            "baxis": {
             "endlinecolor": "#2a3f5f",
             "gridcolor": "white",
             "linecolor": "white",
             "minorgridcolor": "white",
             "startlinecolor": "#2a3f5f"
            },
            "type": "carpet"
           }
          ],
          "choropleth": [
           {
            "colorbar": {
             "outlinewidth": 0,
             "ticks": ""
            },
            "type": "choropleth"
           }
          ],
          "contour": [
           {
            "colorbar": {
             "outlinewidth": 0,
             "ticks": ""
            },
            "colorscale": [
             [
              0,
              "#0d0887"
             ],
             [
              0.1111111111111111,
              "#46039f"
             ],
             [
              0.2222222222222222,
              "#7201a8"
             ],
             [
              0.3333333333333333,
              "#9c179e"
             ],
             [
              0.4444444444444444,
              "#bd3786"
             ],
             [
              0.5555555555555556,
              "#d8576b"
             ],
             [
              0.6666666666666666,
              "#ed7953"
             ],
             [
              0.7777777777777778,
              "#fb9f3a"
             ],
             [
              0.8888888888888888,
              "#fdca26"
             ],
             [
              1,
              "#f0f921"
             ]
            ],
            "type": "contour"
           }
          ],
          "contourcarpet": [
           {
            "colorbar": {
             "outlinewidth": 0,
             "ticks": ""
            },
            "type": "contourcarpet"
           }
          ],
          "heatmap": [
           {
            "colorbar": {
             "outlinewidth": 0,
             "ticks": ""
            },
            "colorscale": [
             [
              0,
              "#0d0887"
             ],
             [
              0.1111111111111111,
              "#46039f"
             ],
             [
              0.2222222222222222,
              "#7201a8"
             ],
             [
              0.3333333333333333,
              "#9c179e"
             ],
             [
              0.4444444444444444,
              "#bd3786"
             ],
             [
              0.5555555555555556,
              "#d8576b"
             ],
             [
              0.6666666666666666,
              "#ed7953"
             ],
             [
              0.7777777777777778,
              "#fb9f3a"
             ],
             [
              0.8888888888888888,
              "#fdca26"
             ],
             [
              1,
              "#f0f921"
             ]
            ],
            "type": "heatmap"
           }
          ],
          "heatmapgl": [
           {
            "colorbar": {
             "outlinewidth": 0,
             "ticks": ""
            },
            "colorscale": [
             [
              0,
              "#0d0887"
             ],
             [
              0.1111111111111111,
              "#46039f"
             ],
             [
              0.2222222222222222,
              "#7201a8"
             ],
             [
              0.3333333333333333,
              "#9c179e"
             ],
             [
              0.4444444444444444,
              "#bd3786"
             ],
             [
              0.5555555555555556,
              "#d8576b"
             ],
             [
              0.6666666666666666,
              "#ed7953"
             ],
             [
              0.7777777777777778,
              "#fb9f3a"
             ],
             [
              0.8888888888888888,
              "#fdca26"
             ],
             [
              1,
              "#f0f921"
             ]
            ],
            "type": "heatmapgl"
           }
          ],
          "histogram": [
           {
            "marker": {
             "pattern": {
              "fillmode": "overlay",
              "size": 10,
              "solidity": 0.2
             }
            },
            "type": "histogram"
           }
          ],
          "histogram2d": [
           {
            "colorbar": {
             "outlinewidth": 0,
             "ticks": ""
            },
            "colorscale": [
             [
              0,
              "#0d0887"
             ],
             [
              0.1111111111111111,
              "#46039f"
             ],
             [
              0.2222222222222222,
              "#7201a8"
             ],
             [
              0.3333333333333333,
              "#9c179e"
             ],
             [
              0.4444444444444444,
              "#bd3786"
             ],
             [
              0.5555555555555556,
              "#d8576b"
             ],
             [
              0.6666666666666666,
              "#ed7953"
             ],
             [
              0.7777777777777778,
              "#fb9f3a"
             ],
             [
              0.8888888888888888,
              "#fdca26"
             ],
             [
              1,
              "#f0f921"
             ]
            ],
            "type": "histogram2d"
           }
          ],
          "histogram2dcontour": [
           {
            "colorbar": {
             "outlinewidth": 0,
             "ticks": ""
            },
            "colorscale": [
             [
              0,
              "#0d0887"
             ],
             [
              0.1111111111111111,
              "#46039f"
             ],
             [
              0.2222222222222222,
              "#7201a8"
             ],
             [
              0.3333333333333333,
              "#9c179e"
             ],
             [
              0.4444444444444444,
              "#bd3786"
             ],
             [
              0.5555555555555556,
              "#d8576b"
             ],
             [
              0.6666666666666666,
              "#ed7953"
             ],
             [
              0.7777777777777778,
              "#fb9f3a"
             ],
             [
              0.8888888888888888,
              "#fdca26"
             ],
             [
              1,
              "#f0f921"
             ]
            ],
            "type": "histogram2dcontour"
           }
          ],
          "mesh3d": [
           {
            "colorbar": {
             "outlinewidth": 0,
             "ticks": ""
            },
            "type": "mesh3d"
           }
          ],
          "parcoords": [
           {
            "line": {
             "colorbar": {
              "outlinewidth": 0,
              "ticks": ""
             }
            },
            "type": "parcoords"
           }
          ],
          "pie": [
           {
            "automargin": true,
            "type": "pie"
           }
          ],
          "scatter": [
           {
            "marker": {
             "colorbar": {
              "outlinewidth": 0,
              "ticks": ""
             }
            },
            "type": "scatter"
           }
          ],
          "scatter3d": [
           {
            "line": {
             "colorbar": {
              "outlinewidth": 0,
              "ticks": ""
             }
            },
            "marker": {
             "colorbar": {
              "outlinewidth": 0,
              "ticks": ""
             }
            },
            "type": "scatter3d"
           }
          ],
          "scattercarpet": [
           {
            "marker": {
             "colorbar": {
              "outlinewidth": 0,
              "ticks": ""
             }
            },
            "type": "scattercarpet"
           }
          ],
          "scattergeo": [
           {
            "marker": {
             "colorbar": {
              "outlinewidth": 0,
              "ticks": ""
             }
            },
            "type": "scattergeo"
           }
          ],
          "scattergl": [
           {
            "marker": {
             "colorbar": {
              "outlinewidth": 0,
              "ticks": ""
             }
            },
            "type": "scattergl"
           }
          ],
          "scattermapbox": [
           {
            "marker": {
             "colorbar": {
              "outlinewidth": 0,
              "ticks": ""
             }
            },
            "type": "scattermapbox"
           }
          ],
          "scatterpolar": [
           {
            "marker": {
             "colorbar": {
              "outlinewidth": 0,
              "ticks": ""
             }
            },
            "type": "scatterpolar"
           }
          ],
          "scatterpolargl": [
           {
            "marker": {
             "colorbar": {
              "outlinewidth": 0,
              "ticks": ""
             }
            },
            "type": "scatterpolargl"
           }
          ],
          "scatterternary": [
           {
            "marker": {
             "colorbar": {
              "outlinewidth": 0,
              "ticks": ""
             }
            },
            "type": "scatterternary"
           }
          ],
          "surface": [
           {
            "colorbar": {
             "outlinewidth": 0,
             "ticks": ""
            },
            "colorscale": [
             [
              0,
              "#0d0887"
             ],
             [
              0.1111111111111111,
              "#46039f"
             ],
             [
              0.2222222222222222,
              "#7201a8"
             ],
             [
              0.3333333333333333,
              "#9c179e"
             ],
             [
              0.4444444444444444,
              "#bd3786"
             ],
             [
              0.5555555555555556,
              "#d8576b"
             ],
             [
              0.6666666666666666,
              "#ed7953"
             ],
             [
              0.7777777777777778,
              "#fb9f3a"
             ],
             [
              0.8888888888888888,
              "#fdca26"
             ],
             [
              1,
              "#f0f921"
             ]
            ],
            "type": "surface"
           }
          ],
          "table": [
           {
            "cells": {
             "fill": {
              "color": "#EBF0F8"
             },
             "line": {
              "color": "white"
             }
            },
            "header": {
             "fill": {
              "color": "#C8D4E3"
             },
             "line": {
              "color": "white"
             }
            },
            "type": "table"
           }
          ]
         },
         "layout": {
          "annotationdefaults": {
           "arrowcolor": "#2a3f5f",
           "arrowhead": 0,
           "arrowwidth": 1
          },
          "autotypenumbers": "strict",
          "coloraxis": {
           "colorbar": {
            "outlinewidth": 0,
            "ticks": ""
           }
          },
          "colorscale": {
           "diverging": [
            [
             0,
             "#8e0152"
            ],
            [
             0.1,
             "#c51b7d"
            ],
            [
             0.2,
             "#de77ae"
            ],
            [
             0.3,
             "#f1b6da"
            ],
            [
             0.4,
             "#fde0ef"
            ],
            [
             0.5,
             "#f7f7f7"
            ],
            [
             0.6,
             "#e6f5d0"
            ],
            [
             0.7,
             "#b8e186"
            ],
            [
             0.8,
             "#7fbc41"
            ],
            [
             0.9,
             "#4d9221"
            ],
            [
             1,
             "#276419"
            ]
           ],
           "sequential": [
            [
             0,
             "#0d0887"
            ],
            [
             0.1111111111111111,
             "#46039f"
            ],
            [
             0.2222222222222222,
             "#7201a8"
            ],
            [
             0.3333333333333333,
             "#9c179e"
            ],
            [
             0.4444444444444444,
             "#bd3786"
            ],
            [
             0.5555555555555556,
             "#d8576b"
            ],
            [
             0.6666666666666666,
             "#ed7953"
            ],
            [
             0.7777777777777778,
             "#fb9f3a"
            ],
            [
             0.8888888888888888,
             "#fdca26"
            ],
            [
             1,
             "#f0f921"
            ]
           ],
           "sequentialminus": [
            [
             0,
             "#0d0887"
            ],
            [
             0.1111111111111111,
             "#46039f"
            ],
            [
             0.2222222222222222,
             "#7201a8"
            ],
            [
             0.3333333333333333,
             "#9c179e"
            ],
            [
             0.4444444444444444,
             "#bd3786"
            ],
            [
             0.5555555555555556,
             "#d8576b"
            ],
            [
             0.6666666666666666,
             "#ed7953"
            ],
            [
             0.7777777777777778,
             "#fb9f3a"
            ],
            [
             0.8888888888888888,
             "#fdca26"
            ],
            [
             1,
             "#f0f921"
            ]
           ]
          },
          "colorway": [
           "#636efa",
           "#EF553B",
           "#00cc96",
           "#ab63fa",
           "#FFA15A",
           "#19d3f3",
           "#FF6692",
           "#B6E880",
           "#FF97FF",
           "#FECB52"
          ],
          "font": {
           "color": "#2a3f5f"
          },
          "geo": {
           "bgcolor": "white",
           "lakecolor": "white",
           "landcolor": "#E5ECF6",
           "showlakes": true,
           "showland": true,
           "subunitcolor": "white"
          },
          "hoverlabel": {
           "align": "left"
          },
          "hovermode": "closest",
          "mapbox": {
           "style": "light"
          },
          "paper_bgcolor": "white",
          "plot_bgcolor": "#E5ECF6",
          "polar": {
           "angularaxis": {
            "gridcolor": "white",
            "linecolor": "white",
            "ticks": ""
           },
           "bgcolor": "#E5ECF6",
           "radialaxis": {
            "gridcolor": "white",
            "linecolor": "white",
            "ticks": ""
           }
          },
          "scene": {
           "xaxis": {
            "backgroundcolor": "#E5ECF6",
            "gridcolor": "white",
            "gridwidth": 2,
            "linecolor": "white",
            "showbackground": true,
            "ticks": "",
            "zerolinecolor": "white"
           },
           "yaxis": {
            "backgroundcolor": "#E5ECF6",
            "gridcolor": "white",
            "gridwidth": 2,
            "linecolor": "white",
            "showbackground": true,
            "ticks": "",
            "zerolinecolor": "white"
           },
           "zaxis": {
            "backgroundcolor": "#E5ECF6",
            "gridcolor": "white",
            "gridwidth": 2,
            "linecolor": "white",
            "showbackground": true,
            "ticks": "",
            "zerolinecolor": "white"
           }
          },
          "shapedefaults": {
           "line": {
            "color": "#2a3f5f"
           }
          },
          "ternary": {
           "aaxis": {
            "gridcolor": "white",
            "linecolor": "white",
            "ticks": ""
           },
           "baxis": {
            "gridcolor": "white",
            "linecolor": "white",
            "ticks": ""
           },
           "bgcolor": "#E5ECF6",
           "caxis": {
            "gridcolor": "white",
            "linecolor": "white",
            "ticks": ""
           }
          },
          "title": {
           "x": 0.05
          },
          "xaxis": {
           "automargin": true,
           "gridcolor": "white",
           "linecolor": "white",
           "ticks": "",
           "title": {
            "standoff": 15
           },
           "zerolinecolor": "white",
           "zerolinewidth": 2
          },
          "yaxis": {
           "automargin": true,
           "gridcolor": "white",
           "linecolor": "white",
           "ticks": "",
           "title": {
            "standoff": 15
           },
           "zerolinecolor": "white",
           "zerolinewidth": 2
          }
         }
        }
       }
      },
      "text/html": [
       "<div>                            <div id=\"1f89fdb7-c350-4dd3-be1d-efae5c4d4922\" class=\"plotly-graph-div\" style=\"height:525px; width:100%;\"></div>            <script type=\"text/javascript\">                require([\"plotly\"], function(Plotly) {                    window.PLOTLYENV=window.PLOTLYENV || {};                                    if (document.getElementById(\"1f89fdb7-c350-4dd3-be1d-efae5c4d4922\")) {                    Plotly.newPlot(                        \"1f89fdb7-c350-4dd3-be1d-efae5c4d4922\",                        [{\"customdata\":[[517,44],[420,43],[582,56],[383,96],[469,42],[61,35],[832,5],[631,52],[211,41],[767,5],[396,16],[715,14],[891,52],[591,30],[739,30],[485,25],[20,26],[983,5],[354,26],[259,51],[960,13],[38,34],[190,18],[342,21],[110,4],[452,31],[827,13],[26,10],[181,8],[74,10],[263,36],[207,15],[886,2],[912,2],[336,4],[561,22],[840,1],[684,7],[208,15],[838,3],[899,4],[529,3],[823,6],[902,6],[810,4],[915,2],[1008,1],[866,8],[811,4],[118,1],[743,1],[483,1],[1006,5],[1002,1],[580,1]],\"hovertemplate\":\"x=%{x}<br>y=%{y}<br>z=%{z}<br>Best_pose=%{customdata[0]}<br>Poses_in_cluster=%{customdata[1]}<br>Binding_energy=%{marker.color}<extra></extra>\",\"legendgroup\":\"\",\"marker\":{\"color\":[-10.1,-9.3,-8.4,-8.0,-8.0,-7.6,-7.3,-7.1,-7.1,-7.1,-7.0,-6.9,-6.8,-6.8,-6.8,-6.7,-6.6,-6.6,-6.6,-6.6,-6.6,-6.5,-6.5,-6.5,-6.4,-6.4,-6.4,-6.3,-6.2,-6.2,-6.2,-6.0,-6.0,-6.0,-5.9,-5.9,-5.9,-5.8,-5.7,-5.7,-5.6,-5.6,-5.6,-5.5,-5.5,-5.4,-5.4,-5.4,-5.4,-5.2,-5.2,-5.1,-4.9,-4.5,1.2],\"coloraxis\":\"coloraxis\",\"symbol\":\"circle\"},\"mode\":\"markers\",\"name\":\"\",\"scene\":\"scene\",\"showlegend\":false,\"type\":\"scatter3d\",\"x\":[82.41999816894531,78.2699966430664,93.36000061035156,112.33000183105469,87.18000030517578,119.73999786376953,66.38999938964844,107.37000274658203,94.52999877929688,71.0199966430664,78.83999633789062,101.76000213623047,116.01000213623047,95.95999908447266,90.86000061035156,69.80999755859375,111.83000183105469,107.30999755859375,102.22000122070312,97.13999938964844,90.95999908447266,122.58999633789062,116.08000183105469,87.41999816894531,128.9199981689453,92.11000061035156,73.05000305175781,126.44999694824219,124.33000183105469,119.01000213623047,81.30999755859375,119.0999984741211,112.83000183105469,104.23999786376953,89.83000183105469,83.9800033569336,72.41000366210938,101.80000305175781,106.41000366210938,77.19000244140625,127.13999938964844,85.45999908447266,63.72999954223633,125.91999816894531,67.04000091552734,106.05000305175781,99.63999938964844,98.91000366210938,78.30000305175781,123.5999984741211,81.9000015258789,73.12000274658203,113.62000274658203,96.80000305175781,100.55999755859375],\"y\":[86.19999694824219,93.41999816894531,94.44000244140625,108.7699966430664,86.58999633789062,85.86000061035156,87.69000244140625,84.20999908447266,113.48999786376953,87.33000183105469,90.12999725341797,86.73999786376953,95.26000213623047,103.62999725341797,68.22000122070312,104.27999877929688,100.87999725341797,91.30999755859375,65.16999816894531,118.30000305175781,92.52999877929688,95.66999816894531,118.7300033569336,58.91999816894531,106.91999816894531,125.72000122070312,82.98999786376953,105.44000244140625,107.66000366210938,81.63999938964844,127.33000183105469,122.80000305175781,111.75,125.51000213623047,81.33000183105469,112.08000183105469,124.52999877929688,76.54000091552734,120.0199966430664,110.62000274658203,109.94999694824219,84.79000091552734,74.86000061035156,117.2300033569336,77.45999908447266,112.56999969482422,97.37999725341797,136.89999389648438,70.91999816894531,121.12999725341797,72.61000061035156,116.54000091552734,87.86000061035156,66.95999908447266,113.36000061035156],\"z\":[100.94999694824219,110.12000274658203,104.61000061035156,95.04000091552734,113.58999633789062,77.91000366210938,108.94999694824219,75.8499984741211,75.52999877929688,122.0199966430664,82.66000366210938,100.41999816894531,124.08999633789062,121.66999816894531,96.38999938964844,109.8499984741211,62.43000030517578,116.48999786376953,116.80999755859375,122.80999755859375,123.76000213623047,67.5999984741211,102.25,115.12999725341797,80.61000061035156,90.41000366210938,93.6500015258789,57.29999923706055,93.30000305175781,90.97000122070312,104.06999969482422,87.43000030517578,109.69000244140625,122.69999694824219,130.72000122070312,80.87999725341797,114.16000366210938,83.55000305175781,72.1500015258789,123.5,127.16999816894531,70.63999938964844,106.12000274658203,120.0,121.69999694824219,130.72999572753906,129.16000366210938,106.0999984741211,129.42999267578125,65.44999694824219,81.2300033569336,94.27999877929688,133.52000427246094,128.97999572753906,102.36000061035156]}],                        {\"coloraxis\":{\"colorbar\":{\"title\":{\"text\":\"Binding_energy\"}},\"colorscale\":[[0.0,\"#0d0887\"],[0.1111111111111111,\"#46039f\"],[0.2222222222222222,\"#7201a8\"],[0.3333333333333333,\"#9c179e\"],[0.4444444444444444,\"#bd3786\"],[0.5555555555555556,\"#d8576b\"],[0.6666666666666666,\"#ed7953\"],[0.7777777777777778,\"#fb9f3a\"],[0.8888888888888888,\"#fdca26\"],[1.0,\"#f0f921\"]]},\"legend\":{\"tracegroupgap\":0},\"margin\":{\"t\":60},\"scene\":{\"domain\":{\"x\":[0.0,1.0],\"y\":[0.0,1.0]},\"xaxis\":{\"title\":{\"text\":\"x\"}},\"yaxis\":{\"title\":{\"text\":\"y\"}},\"zaxis\":{\"title\":{\"text\":\"z\"}}},\"template\":{\"data\":{\"bar\":[{\"error_x\":{\"color\":\"#2a3f5f\"},\"error_y\":{\"color\":\"#2a3f5f\"},\"marker\":{\"line\":{\"color\":\"#E5ECF6\",\"width\":0.5},\"pattern\":{\"fillmode\":\"overlay\",\"size\":10,\"solidity\":0.2}},\"type\":\"bar\"}],\"barpolar\":[{\"marker\":{\"line\":{\"color\":\"#E5ECF6\",\"width\":0.5},\"pattern\":{\"fillmode\":\"overlay\",\"size\":10,\"solidity\":0.2}},\"type\":\"barpolar\"}],\"carpet\":[{\"aaxis\":{\"endlinecolor\":\"#2a3f5f\",\"gridcolor\":\"white\",\"linecolor\":\"white\",\"minorgridcolor\":\"white\",\"startlinecolor\":\"#2a3f5f\"},\"baxis\":{\"endlinecolor\":\"#2a3f5f\",\"gridcolor\":\"white\",\"linecolor\":\"white\",\"minorgridcolor\":\"white\",\"startlinecolor\":\"#2a3f5f\"},\"type\":\"carpet\"}],\"choropleth\":[{\"colorbar\":{\"outlinewidth\":0,\"ticks\":\"\"},\"type\":\"choropleth\"}],\"contour\":[{\"colorbar\":{\"outlinewidth\":0,\"ticks\":\"\"},\"colorscale\":[[0.0,\"#0d0887\"],[0.1111111111111111,\"#46039f\"],[0.2222222222222222,\"#7201a8\"],[0.3333333333333333,\"#9c179e\"],[0.4444444444444444,\"#bd3786\"],[0.5555555555555556,\"#d8576b\"],[0.6666666666666666,\"#ed7953\"],[0.7777777777777778,\"#fb9f3a\"],[0.8888888888888888,\"#fdca26\"],[1.0,\"#f0f921\"]],\"type\":\"contour\"}],\"contourcarpet\":[{\"colorbar\":{\"outlinewidth\":0,\"ticks\":\"\"},\"type\":\"contourcarpet\"}],\"heatmap\":[{\"colorbar\":{\"outlinewidth\":0,\"ticks\":\"\"},\"colorscale\":[[0.0,\"#0d0887\"],[0.1111111111111111,\"#46039f\"],[0.2222222222222222,\"#7201a8\"],[0.3333333333333333,\"#9c179e\"],[0.4444444444444444,\"#bd3786\"],[0.5555555555555556,\"#d8576b\"],[0.6666666666666666,\"#ed7953\"],[0.7777777777777778,\"#fb9f3a\"],[0.8888888888888888,\"#fdca26\"],[1.0,\"#f0f921\"]],\"type\":\"heatmap\"}],\"heatmapgl\":[{\"colorbar\":{\"outlinewidth\":0,\"ticks\":\"\"},\"colorscale\":[[0.0,\"#0d0887\"],[0.1111111111111111,\"#46039f\"],[0.2222222222222222,\"#7201a8\"],[0.3333333333333333,\"#9c179e\"],[0.4444444444444444,\"#bd3786\"],[0.5555555555555556,\"#d8576b\"],[0.6666666666666666,\"#ed7953\"],[0.7777777777777778,\"#fb9f3a\"],[0.8888888888888888,\"#fdca26\"],[1.0,\"#f0f921\"]],\"type\":\"heatmapgl\"}],\"histogram\":[{\"marker\":{\"pattern\":{\"fillmode\":\"overlay\",\"size\":10,\"solidity\":0.2}},\"type\":\"histogram\"}],\"histogram2d\":[{\"colorbar\":{\"outlinewidth\":0,\"ticks\":\"\"},\"colorscale\":[[0.0,\"#0d0887\"],[0.1111111111111111,\"#46039f\"],[0.2222222222222222,\"#7201a8\"],[0.3333333333333333,\"#9c179e\"],[0.4444444444444444,\"#bd3786\"],[0.5555555555555556,\"#d8576b\"],[0.6666666666666666,\"#ed7953\"],[0.7777777777777778,\"#fb9f3a\"],[0.8888888888888888,\"#fdca26\"],[1.0,\"#f0f921\"]],\"type\":\"histogram2d\"}],\"histogram2dcontour\":[{\"colorbar\":{\"outlinewidth\":0,\"ticks\":\"\"},\"colorscale\":[[0.0,\"#0d0887\"],[0.1111111111111111,\"#46039f\"],[0.2222222222222222,\"#7201a8\"],[0.3333333333333333,\"#9c179e\"],[0.4444444444444444,\"#bd3786\"],[0.5555555555555556,\"#d8576b\"],[0.6666666666666666,\"#ed7953\"],[0.7777777777777778,\"#fb9f3a\"],[0.8888888888888888,\"#fdca26\"],[1.0,\"#f0f921\"]],\"type\":\"histogram2dcontour\"}],\"mesh3d\":[{\"colorbar\":{\"outlinewidth\":0,\"ticks\":\"\"},\"type\":\"mesh3d\"}],\"parcoords\":[{\"line\":{\"colorbar\":{\"outlinewidth\":0,\"ticks\":\"\"}},\"type\":\"parcoords\"}],\"pie\":[{\"automargin\":true,\"type\":\"pie\"}],\"scatter\":[{\"marker\":{\"colorbar\":{\"outlinewidth\":0,\"ticks\":\"\"}},\"type\":\"scatter\"}],\"scatter3d\":[{\"line\":{\"colorbar\":{\"outlinewidth\":0,\"ticks\":\"\"}},\"marker\":{\"colorbar\":{\"outlinewidth\":0,\"ticks\":\"\"}},\"type\":\"scatter3d\"}],\"scattercarpet\":[{\"marker\":{\"colorbar\":{\"outlinewidth\":0,\"ticks\":\"\"}},\"type\":\"scattercarpet\"}],\"scattergeo\":[{\"marker\":{\"colorbar\":{\"outlinewidth\":0,\"ticks\":\"\"}},\"type\":\"scattergeo\"}],\"scattergl\":[{\"marker\":{\"colorbar\":{\"outlinewidth\":0,\"ticks\":\"\"}},\"type\":\"scattergl\"}],\"scattermapbox\":[{\"marker\":{\"colorbar\":{\"outlinewidth\":0,\"ticks\":\"\"}},\"type\":\"scattermapbox\"}],\"scatterpolar\":[{\"marker\":{\"colorbar\":{\"outlinewidth\":0,\"ticks\":\"\"}},\"type\":\"scatterpolar\"}],\"scatterpolargl\":[{\"marker\":{\"colorbar\":{\"outlinewidth\":0,\"ticks\":\"\"}},\"type\":\"scatterpolargl\"}],\"scatterternary\":[{\"marker\":{\"colorbar\":{\"outlinewidth\":0,\"ticks\":\"\"}},\"type\":\"scatterternary\"}],\"surface\":[{\"colorbar\":{\"outlinewidth\":0,\"ticks\":\"\"},\"colorscale\":[[0.0,\"#0d0887\"],[0.1111111111111111,\"#46039f\"],[0.2222222222222222,\"#7201a8\"],[0.3333333333333333,\"#9c179e\"],[0.4444444444444444,\"#bd3786\"],[0.5555555555555556,\"#d8576b\"],[0.6666666666666666,\"#ed7953\"],[0.7777777777777778,\"#fb9f3a\"],[0.8888888888888888,\"#fdca26\"],[1.0,\"#f0f921\"]],\"type\":\"surface\"}],\"table\":[{\"cells\":{\"fill\":{\"color\":\"#EBF0F8\"},\"line\":{\"color\":\"white\"}},\"header\":{\"fill\":{\"color\":\"#C8D4E3\"},\"line\":{\"color\":\"white\"}},\"type\":\"table\"}]},\"layout\":{\"annotationdefaults\":{\"arrowcolor\":\"#2a3f5f\",\"arrowhead\":0,\"arrowwidth\":1},\"autotypenumbers\":\"strict\",\"coloraxis\":{\"colorbar\":{\"outlinewidth\":0,\"ticks\":\"\"}},\"colorscale\":{\"diverging\":[[0,\"#8e0152\"],[0.1,\"#c51b7d\"],[0.2,\"#de77ae\"],[0.3,\"#f1b6da\"],[0.4,\"#fde0ef\"],[0.5,\"#f7f7f7\"],[0.6,\"#e6f5d0\"],[0.7,\"#b8e186\"],[0.8,\"#7fbc41\"],[0.9,\"#4d9221\"],[1,\"#276419\"]],\"sequential\":[[0.0,\"#0d0887\"],[0.1111111111111111,\"#46039f\"],[0.2222222222222222,\"#7201a8\"],[0.3333333333333333,\"#9c179e\"],[0.4444444444444444,\"#bd3786\"],[0.5555555555555556,\"#d8576b\"],[0.6666666666666666,\"#ed7953\"],[0.7777777777777778,\"#fb9f3a\"],[0.8888888888888888,\"#fdca26\"],[1.0,\"#f0f921\"]],\"sequentialminus\":[[0.0,\"#0d0887\"],[0.1111111111111111,\"#46039f\"],[0.2222222222222222,\"#7201a8\"],[0.3333333333333333,\"#9c179e\"],[0.4444444444444444,\"#bd3786\"],[0.5555555555555556,\"#d8576b\"],[0.6666666666666666,\"#ed7953\"],[0.7777777777777778,\"#fb9f3a\"],[0.8888888888888888,\"#fdca26\"],[1.0,\"#f0f921\"]]},\"colorway\":[\"#636efa\",\"#EF553B\",\"#00cc96\",\"#ab63fa\",\"#FFA15A\",\"#19d3f3\",\"#FF6692\",\"#B6E880\",\"#FF97FF\",\"#FECB52\"],\"font\":{\"color\":\"#2a3f5f\"},\"geo\":{\"bgcolor\":\"white\",\"lakecolor\":\"white\",\"landcolor\":\"#E5ECF6\",\"showlakes\":true,\"showland\":true,\"subunitcolor\":\"white\"},\"hoverlabel\":{\"align\":\"left\"},\"hovermode\":\"closest\",\"mapbox\":{\"style\":\"light\"},\"paper_bgcolor\":\"white\",\"plot_bgcolor\":\"#E5ECF6\",\"polar\":{\"angularaxis\":{\"gridcolor\":\"white\",\"linecolor\":\"white\",\"ticks\":\"\"},\"bgcolor\":\"#E5ECF6\",\"radialaxis\":{\"gridcolor\":\"white\",\"linecolor\":\"white\",\"ticks\":\"\"}},\"scene\":{\"xaxis\":{\"backgroundcolor\":\"#E5ECF6\",\"gridcolor\":\"white\",\"gridwidth\":2,\"linecolor\":\"white\",\"showbackground\":true,\"ticks\":\"\",\"zerolinecolor\":\"white\"},\"yaxis\":{\"backgroundcolor\":\"#E5ECF6\",\"gridcolor\":\"white\",\"gridwidth\":2,\"linecolor\":\"white\",\"showbackground\":true,\"ticks\":\"\",\"zerolinecolor\":\"white\"},\"zaxis\":{\"backgroundcolor\":\"#E5ECF6\",\"gridcolor\":\"white\",\"gridwidth\":2,\"linecolor\":\"white\",\"showbackground\":true,\"ticks\":\"\",\"zerolinecolor\":\"white\"}},\"shapedefaults\":{\"line\":{\"color\":\"#2a3f5f\"}},\"ternary\":{\"aaxis\":{\"gridcolor\":\"white\",\"linecolor\":\"white\",\"ticks\":\"\"},\"baxis\":{\"gridcolor\":\"white\",\"linecolor\":\"white\",\"ticks\":\"\"},\"bgcolor\":\"#E5ECF6\",\"caxis\":{\"gridcolor\":\"white\",\"linecolor\":\"white\",\"ticks\":\"\"}},\"title\":{\"x\":0.05},\"xaxis\":{\"automargin\":true,\"gridcolor\":\"white\",\"linecolor\":\"white\",\"ticks\":\"\",\"title\":{\"standoff\":15},\"zerolinecolor\":\"white\",\"zerolinewidth\":2},\"yaxis\":{\"automargin\":true,\"gridcolor\":\"white\",\"linecolor\":\"white\",\"ticks\":\"\",\"title\":{\"standoff\":15},\"zerolinecolor\":\"white\",\"zerolinewidth\":2}}}},                        {\"responsive\": true}                    ).then(function(){\n",
       "                            \n",
       "var gd = document.getElementById('1f89fdb7-c350-4dd3-be1d-efae5c4d4922');\n",
       "var x = new MutationObserver(function (mutations, observer) {{\n",
       "        var display = window.getComputedStyle(gd).display;\n",
       "        if (!display || display === 'none') {{\n",
       "            console.log([gd, 'removed!']);\n",
       "            Plotly.purge(gd);\n",
       "            observer.disconnect();\n",
       "        }}\n",
       "}});\n",
       "\n",
       "// Listen for the removal of the full notebook cells\n",
       "var notebookContainer = gd.closest('#notebook-container');\n",
       "if (notebookContainer) {{\n",
       "    x.observe(notebookContainer, {childList: true});\n",
       "}}\n",
       "\n",
       "// Listen for the clearing of the current output cell\n",
       "var outputEl = gd.closest('.output');\n",
       "if (outputEl) {{\n",
       "    x.observe(outputEl, {childList: true});\n",
       "}}\n",
       "\n",
       "                        })                };                });            </script>        </div>"
      ]
     },
     "metadata": {},
     "output_type": "display_data"
    }
   ],
   "source": [
    "fig = px.scatter_3d(df, x='x', y='y', z='z',\n",
    "              color = \"Binding_energy\", hover_data = [\"Best_pose\", \"Poses_in_cluster\"])\n",
    "fig.show()"
   ]
  }
 ],
 "metadata": {
  "kernelspec": {
   "display_name": "Python 3",
   "language": "python",
   "name": "python3"
  },
  "language_info": {
   "codemirror_mode": {
    "name": "ipython",
    "version": 3
   },
   "file_extension": ".py",
   "mimetype": "text/x-python",
   "name": "python",
   "nbconvert_exporter": "python",
   "pygments_lexer": "ipython3",
   "version": "3.8.5"
  }
 },
 "nbformat": 4,
 "nbformat_minor": 4
}
